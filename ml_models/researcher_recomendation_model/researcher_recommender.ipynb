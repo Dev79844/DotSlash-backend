{
  "nbformat": 4,
  "nbformat_minor": 0,
  "metadata": {
    "colab": {
      "provenance": []
    },
    "kernelspec": {
      "name": "python3",
      "display_name": "Python 3"
    },
    "language_info": {
      "name": "python"
    }
  },
  "cells": [
    {
      "cell_type": "code",
      "execution_count": 58,
      "metadata": {
        "id": "UMPol8aS99Lo"
      },
      "outputs": [],
      "source": [
        "#importing dependencies\n",
        "import pandas as pd \n",
        "from sklearn.neighbors import NearestNeighbors\n",
        "from sklearn.model_selection import train_test_split\n",
        "from sklearn.metrics import accuracy_score"
      ]
    },
    {
      "cell_type": "code",
      "source": [
        "#load dataset and preprocess \n",
        "researcher_data = pd.read_csv('/content/researcher_database.csv')"
      ],
      "metadata": {
        "id": "H8S5C9t7C_Td"
      },
      "execution_count": 59,
      "outputs": []
    },
    {
      "cell_type": "code",
      "source": [
        "researcher_data.head()"
      ],
      "metadata": {
        "colab": {
          "base_uri": "https://localhost:8080/",
          "height": 206
        },
        "id": "-XVZPnKeDeQP",
        "outputId": "92e56fd2-773c-4532-a98b-2fcf5563d948"
      },
      "execution_count": 60,
      "outputs": [
        {
          "output_type": "execute_result",
          "data": {
            "text/plain": [
              "   researcher_id          name          research_area research_method  \\\n",
              "0              1  Researcher 1           Neuroscience     Theoretical   \n",
              "1              2  Researcher 2   Chemical Engineering    Experimental   \n",
              "2              3  Researcher 3       Computer Science     Theoretical   \n",
              "3              4  Researcher 4      Materials Science     Theoretical   \n",
              "4              5  Researcher 5  Environmental Science    Experimental   \n",
              "\n",
              "           designation             gender  yoe  \n",
              "0     Graduate Student               Male   31  \n",
              "1  Postdoctoral Fellow  Prefer not to say   49  \n",
              "2  Postdoctoral Fellow         Non-binary   20  \n",
              "3   Research Assistant             Female   28  \n",
              "4     Graduate Student               Male    6  "
            ],
            "text/html": [
              "\n",
              "  <div id=\"df-a660763c-54f2-40bc-8862-4fd27615adcd\">\n",
              "    <div class=\"colab-df-container\">\n",
              "      <div>\n",
              "<style scoped>\n",
              "    .dataframe tbody tr th:only-of-type {\n",
              "        vertical-align: middle;\n",
              "    }\n",
              "\n",
              "    .dataframe tbody tr th {\n",
              "        vertical-align: top;\n",
              "    }\n",
              "\n",
              "    .dataframe thead th {\n",
              "        text-align: right;\n",
              "    }\n",
              "</style>\n",
              "<table border=\"1\" class=\"dataframe\">\n",
              "  <thead>\n",
              "    <tr style=\"text-align: right;\">\n",
              "      <th></th>\n",
              "      <th>researcher_id</th>\n",
              "      <th>name</th>\n",
              "      <th>research_area</th>\n",
              "      <th>research_method</th>\n",
              "      <th>designation</th>\n",
              "      <th>gender</th>\n",
              "      <th>yoe</th>\n",
              "    </tr>\n",
              "  </thead>\n",
              "  <tbody>\n",
              "    <tr>\n",
              "      <th>0</th>\n",
              "      <td>1</td>\n",
              "      <td>Researcher 1</td>\n",
              "      <td>Neuroscience</td>\n",
              "      <td>Theoretical</td>\n",
              "      <td>Graduate Student</td>\n",
              "      <td>Male</td>\n",
              "      <td>31</td>\n",
              "    </tr>\n",
              "    <tr>\n",
              "      <th>1</th>\n",
              "      <td>2</td>\n",
              "      <td>Researcher 2</td>\n",
              "      <td>Chemical Engineering</td>\n",
              "      <td>Experimental</td>\n",
              "      <td>Postdoctoral Fellow</td>\n",
              "      <td>Prefer not to say</td>\n",
              "      <td>49</td>\n",
              "    </tr>\n",
              "    <tr>\n",
              "      <th>2</th>\n",
              "      <td>3</td>\n",
              "      <td>Researcher 3</td>\n",
              "      <td>Computer Science</td>\n",
              "      <td>Theoretical</td>\n",
              "      <td>Postdoctoral Fellow</td>\n",
              "      <td>Non-binary</td>\n",
              "      <td>20</td>\n",
              "    </tr>\n",
              "    <tr>\n",
              "      <th>3</th>\n",
              "      <td>4</td>\n",
              "      <td>Researcher 4</td>\n",
              "      <td>Materials Science</td>\n",
              "      <td>Theoretical</td>\n",
              "      <td>Research Assistant</td>\n",
              "      <td>Female</td>\n",
              "      <td>28</td>\n",
              "    </tr>\n",
              "    <tr>\n",
              "      <th>4</th>\n",
              "      <td>5</td>\n",
              "      <td>Researcher 5</td>\n",
              "      <td>Environmental Science</td>\n",
              "      <td>Experimental</td>\n",
              "      <td>Graduate Student</td>\n",
              "      <td>Male</td>\n",
              "      <td>6</td>\n",
              "    </tr>\n",
              "  </tbody>\n",
              "</table>\n",
              "</div>\n",
              "      <button class=\"colab-df-convert\" onclick=\"convertToInteractive('df-a660763c-54f2-40bc-8862-4fd27615adcd')\"\n",
              "              title=\"Convert this dataframe to an interactive table.\"\n",
              "              style=\"display:none;\">\n",
              "        \n",
              "  <svg xmlns=\"http://www.w3.org/2000/svg\" height=\"24px\"viewBox=\"0 0 24 24\"\n",
              "       width=\"24px\">\n",
              "    <path d=\"M0 0h24v24H0V0z\" fill=\"none\"/>\n",
              "    <path d=\"M18.56 5.44l.94 2.06.94-2.06 2.06-.94-2.06-.94-.94-2.06-.94 2.06-2.06.94zm-11 1L8.5 8.5l.94-2.06 2.06-.94-2.06-.94L8.5 2.5l-.94 2.06-2.06.94zm10 10l.94 2.06.94-2.06 2.06-.94-2.06-.94-.94-2.06-.94 2.06-2.06.94z\"/><path d=\"M17.41 7.96l-1.37-1.37c-.4-.4-.92-.59-1.43-.59-.52 0-1.04.2-1.43.59L10.3 9.45l-7.72 7.72c-.78.78-.78 2.05 0 2.83L4 21.41c.39.39.9.59 1.41.59.51 0 1.02-.2 1.41-.59l7.78-7.78 2.81-2.81c.8-.78.8-2.07 0-2.86zM5.41 20L4 18.59l7.72-7.72 1.47 1.35L5.41 20z\"/>\n",
              "  </svg>\n",
              "      </button>\n",
              "      \n",
              "  <style>\n",
              "    .colab-df-container {\n",
              "      display:flex;\n",
              "      flex-wrap:wrap;\n",
              "      gap: 12px;\n",
              "    }\n",
              "\n",
              "    .colab-df-convert {\n",
              "      background-color: #E8F0FE;\n",
              "      border: none;\n",
              "      border-radius: 50%;\n",
              "      cursor: pointer;\n",
              "      display: none;\n",
              "      fill: #1967D2;\n",
              "      height: 32px;\n",
              "      padding: 0 0 0 0;\n",
              "      width: 32px;\n",
              "    }\n",
              "\n",
              "    .colab-df-convert:hover {\n",
              "      background-color: #E2EBFA;\n",
              "      box-shadow: 0px 1px 2px rgba(60, 64, 67, 0.3), 0px 1px 3px 1px rgba(60, 64, 67, 0.15);\n",
              "      fill: #174EA6;\n",
              "    }\n",
              "\n",
              "    [theme=dark] .colab-df-convert {\n",
              "      background-color: #3B4455;\n",
              "      fill: #D2E3FC;\n",
              "    }\n",
              "\n",
              "    [theme=dark] .colab-df-convert:hover {\n",
              "      background-color: #434B5C;\n",
              "      box-shadow: 0px 1px 3px 1px rgba(0, 0, 0, 0.15);\n",
              "      filter: drop-shadow(0px 1px 2px rgba(0, 0, 0, 0.3));\n",
              "      fill: #FFFFFF;\n",
              "    }\n",
              "  </style>\n",
              "\n",
              "      <script>\n",
              "        const buttonEl =\n",
              "          document.querySelector('#df-a660763c-54f2-40bc-8862-4fd27615adcd button.colab-df-convert');\n",
              "        buttonEl.style.display =\n",
              "          google.colab.kernel.accessAllowed ? 'block' : 'none';\n",
              "\n",
              "        async function convertToInteractive(key) {\n",
              "          const element = document.querySelector('#df-a660763c-54f2-40bc-8862-4fd27615adcd');\n",
              "          const dataTable =\n",
              "            await google.colab.kernel.invokeFunction('convertToInteractive',\n",
              "                                                     [key], {});\n",
              "          if (!dataTable) return;\n",
              "\n",
              "          const docLinkHtml = 'Like what you see? Visit the ' +\n",
              "            '<a target=\"_blank\" href=https://colab.research.google.com/notebooks/data_table.ipynb>data table notebook</a>'\n",
              "            + ' to learn more about interactive tables.';\n",
              "          element.innerHTML = '';\n",
              "          dataTable['output_type'] = 'display_data';\n",
              "          await google.colab.output.renderOutput(dataTable, element);\n",
              "          const docLink = document.createElement('div');\n",
              "          docLink.innerHTML = docLinkHtml;\n",
              "          element.appendChild(docLink);\n",
              "        }\n",
              "      </script>\n",
              "    </div>\n",
              "  </div>\n",
              "  "
            ]
          },
          "metadata": {},
          "execution_count": 60
        }
      ]
    },
    {
      "cell_type": "code",
      "source": [
        "researcher_data.describe"
      ],
      "metadata": {
        "colab": {
          "base_uri": "https://localhost:8080/"
        },
        "id": "jehvlgB2Dwod",
        "outputId": "5db14b22-2ebf-4ce5-a191-6f1ef211916f"
      },
      "execution_count": 61,
      "outputs": [
        {
          "output_type": "execute_result",
          "data": {
            "text/plain": [
              "<bound method NDFrame.describe of      researcher_id             name           research_area research_method  \\\n",
              "0                1     Researcher 1            Neuroscience     Theoretical   \n",
              "1                2     Researcher 2    Chemical Engineering    Experimental   \n",
              "2                3     Researcher 3        Computer Science     Theoretical   \n",
              "3                4     Researcher 4       Materials Science     Theoretical   \n",
              "4                5     Researcher 5   Environmental Science    Experimental   \n",
              "..             ...              ...                     ...             ...   \n",
              "995            996   Researcher 996    Chemical Engineering    Experimental   \n",
              "996            997   Researcher 997        Computer Science    Experimental   \n",
              "997            998   Researcher 998        Computer Science           Mixed   \n",
              "998            999   Researcher 999                 Physics     Theoretical   \n",
              "999           1000  Researcher 1000  Electrical Engineering    Experimental   \n",
              "\n",
              "             designation             gender  yoe  \n",
              "0       Graduate Student               Male   31  \n",
              "1    Postdoctoral Fellow  Prefer not to say   49  \n",
              "2    Postdoctoral Fellow         Non-binary   20  \n",
              "3     Research Assistant             Female   28  \n",
              "4       Graduate Student               Male    6  \n",
              "..                   ...                ...  ...  \n",
              "995  Postdoctoral Fellow  Prefer not to say   29  \n",
              "996            Professor  Prefer not to say   18  \n",
              "997            Professor             Female   25  \n",
              "998     Graduate Student  Prefer not to say    9  \n",
              "999   Research Associate             Female   18  \n",
              "\n",
              "[1000 rows x 7 columns]>"
            ]
          },
          "metadata": {},
          "execution_count": 61
        }
      ]
    },
    {
      "cell_type": "code",
      "source": [
        "researcher_data.shape"
      ],
      "metadata": {
        "colab": {
          "base_uri": "https://localhost:8080/"
        },
        "id": "f60owkeLDy7H",
        "outputId": "04b82337-031e-4f28-b0e9-c1b1b191f6af"
      },
      "execution_count": 62,
      "outputs": [
        {
          "output_type": "execute_result",
          "data": {
            "text/plain": [
              "(1000, 7)"
            ]
          },
          "metadata": {},
          "execution_count": 62
        }
      ]
    },
    {
      "cell_type": "code",
      "source": [
        "#preprocessing data\n",
        "X = researcher_data[['researcher_id', 'gender' ,  'designation' , 'research_method' , 'yoe']].fillna(0)\n",
        "X = pd.get_dummies(X, columns=['researcher_id', 'gender' ,  'designation' , 'research_method' , 'yoe'])\n"
      ],
      "metadata": {
        "id": "ymkbVAcMD59f"
      },
      "execution_count": 64,
      "outputs": []
    },
    {
      "cell_type": "code",
      "source": [
        "n_neighbors = 5 \n",
        "knn = NearestNeighbors(n_neighbors=n_neighbors, algorithm='auto')\n",
        "knn.fit(X)"
      ],
      "metadata": {
        "colab": {
          "base_uri": "https://localhost:8080/"
        },
        "id": "7uXlFs15F-4b",
        "outputId": "2839d468-2fe5-4814-dc7f-e704f175b95e"
      },
      "execution_count": 65,
      "outputs": [
        {
          "output_type": "execute_result",
          "data": {
            "text/plain": [
              "NearestNeighbors()"
            ]
          },
          "metadata": {},
          "execution_count": 65
        }
      ]
    },
    {
      "cell_type": "code",
      "source": [
        "researcher_id = 69\n",
        "researcher_features = X.iloc[researcher_id,:].values.reshape(1,-1)\n",
        "_, neighbour_ids = knn.kneighbors(researcher_features)\n",
        "similar_researcher_ids = neighbour_ids[0][1:]\n",
        "similar_researcher = researcher_data.iloc[similar_researcher_ids,:]"
      ],
      "metadata": {
        "colab": {
          "base_uri": "https://localhost:8080/"
        },
        "id": "t96Vrr71HuWf",
        "outputId": "79668f8f-be95-48f1-abd1-435c11314fc4"
      },
      "execution_count": 71,
      "outputs": [
        {
          "output_type": "stream",
          "name": "stderr",
          "text": [
            "/usr/local/lib/python3.8/dist-packages/sklearn/base.py:450: UserWarning: X does not have valid feature names, but NearestNeighbors was fitted with feature names\n",
            "  warnings.warn(\n"
          ]
        }
      ]
    },
    {
      "cell_type": "code",
      "source": [
        "print(similar_researcher)"
      ],
      "metadata": {
        "colab": {
          "base_uri": "https://localhost:8080/"
        },
        "id": "177zJBdeNlnz",
        "outputId": "ff3ce4fe-67e7-4ebf-8623-15241e5eaa2c"
      },
      "execution_count": 73,
      "outputs": [
        {
          "output_type": "stream",
          "name": "stdout",
          "text": [
            "     researcher_id            name           research_area research_method  \\\n",
            "690            691  Researcher 691        Computer Science    Experimental   \n",
            "278            279  Researcher 279                 Physics    Experimental   \n",
            "568            569  Researcher 569  Electrical Engineering    Experimental   \n",
            "395            396  Researcher 396   Environmental Science    Experimental   \n",
            "\n",
            "    designation      gender  yoe  \n",
            "690   Professor  Non-binary    9  \n",
            "278   Professor  Non-binary    9  \n",
            "568   Professor  Non-binary    2  \n",
            "395   Professor      Female    9  \n"
          ]
        }
      ]
    },
    {
      "cell_type": "code",
      "source": [],
      "metadata": {
        "id": "aMFOPumuoPUA"
      },
      "execution_count": 67,
      "outputs": []
    }
  ]
}